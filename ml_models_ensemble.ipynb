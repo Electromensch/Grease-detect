{
  "cells": [
    {
      "cell_type": "code",
      "execution_count": 1,
      "id": "ae5d5393",
      "metadata": {
        "id": "ae5d5393"
      },
      "outputs": [],
      "source": [
        "import pandas as pd\n",
        "import seaborn as sns\n",
        "import matplotlib.pyplot as plt\n",
        "import numpy as np\n",
        "import os\n",
        "from sklearn.model_selection import train_test_split"
      ]
    },
    {
      "cell_type": "code",
      "source": [
        "!git clone https://github.com/Electromensch/Grease-detect"
      ],
      "metadata": {
        "id": "RmlJfoe3SxUB",
        "outputId": "a20b93b5-20b6-4a53-c16b-eae68e717557",
        "colab": {
          "base_uri": "https://localhost:8080/"
        }
      },
      "id": "RmlJfoe3SxUB",
      "execution_count": 2,
      "outputs": [
        {
          "output_type": "stream",
          "name": "stdout",
          "text": [
            "Cloning into 'Grease-detect'...\n",
            "remote: Enumerating objects: 7, done.\u001b[K\n",
            "remote: Counting objects: 100% (7/7), done.\u001b[K\n",
            "remote: Compressing objects: 100% (7/7), done.\u001b[K\n",
            "remote: Total 7 (delta 1), reused 0 (delta 0), pack-reused 0\u001b[K\n",
            "Unpacking objects: 100% (7/7), done.\n"
          ]
        }
      ]
    },
    {
      "cell_type": "code",
      "execution_count": 9,
      "id": "34cd84e2",
      "metadata": {
        "id": "34cd84e2",
        "outputId": "3b57521c-af9f-4d9f-dfab-ecb32a1743ff",
        "colab": {
          "base_uri": "https://localhost:8080/",
          "height": 270
        }
      },
      "outputs": [
        {
          "output_type": "execute_result",
          "data": {
            "text/plain": [
              "   identifier  low_grease      s1_fb1      s1_fb2      s1_fb3      s1_fb4  \\\n",
              "0           1           0  193.354127  199.216030  163.355636  192.992784   \n",
              "1           2           0  189.812360  197.276925  160.930905  197.587089   \n",
              "2           3           0  195.701129  197.603492  160.558204  195.922677   \n",
              "3           4           0  185.222741  195.595038  174.492461  194.051625   \n",
              "4           5           0  194.886473  196.721925  180.923926  193.229550   \n",
              "\n",
              "       s1_fb5      s2_fb1      s2_fb2      s2_fb3      s2_fb4      s2_fb5  \n",
              "0  191.464309  194.993160  197.404228  179.661069  195.639494  187.282497  \n",
              "1  192.195973  194.666661  201.669789  187.436239  196.766512  191.081678  \n",
              "2  194.815197  194.713178  196.443662  188.786681  197.238927  194.375613  \n",
              "3  198.489453  200.517259  196.386578  200.080633  197.848037  206.754103  \n",
              "4  194.106990  196.399191  190.816571  190.248573  201.052747  206.314634  "
            ],
            "text/html": [
              "\n",
              "  <div id=\"df-e04000f1-9a25-4f7c-a7f7-2e8357fdc311\">\n",
              "    <div class=\"colab-df-container\">\n",
              "      <div>\n",
              "<style scoped>\n",
              "    .dataframe tbody tr th:only-of-type {\n",
              "        vertical-align: middle;\n",
              "    }\n",
              "\n",
              "    .dataframe tbody tr th {\n",
              "        vertical-align: top;\n",
              "    }\n",
              "\n",
              "    .dataframe thead th {\n",
              "        text-align: right;\n",
              "    }\n",
              "</style>\n",
              "<table border=\"1\" class=\"dataframe\">\n",
              "  <thead>\n",
              "    <tr style=\"text-align: right;\">\n",
              "      <th></th>\n",
              "      <th>identifier</th>\n",
              "      <th>low_grease</th>\n",
              "      <th>s1_fb1</th>\n",
              "      <th>s1_fb2</th>\n",
              "      <th>s1_fb3</th>\n",
              "      <th>s1_fb4</th>\n",
              "      <th>s1_fb5</th>\n",
              "      <th>s2_fb1</th>\n",
              "      <th>s2_fb2</th>\n",
              "      <th>s2_fb3</th>\n",
              "      <th>s2_fb4</th>\n",
              "      <th>s2_fb5</th>\n",
              "    </tr>\n",
              "  </thead>\n",
              "  <tbody>\n",
              "    <tr>\n",
              "      <th>0</th>\n",
              "      <td>1</td>\n",
              "      <td>0</td>\n",
              "      <td>193.354127</td>\n",
              "      <td>199.216030</td>\n",
              "      <td>163.355636</td>\n",
              "      <td>192.992784</td>\n",
              "      <td>191.464309</td>\n",
              "      <td>194.993160</td>\n",
              "      <td>197.404228</td>\n",
              "      <td>179.661069</td>\n",
              "      <td>195.639494</td>\n",
              "      <td>187.282497</td>\n",
              "    </tr>\n",
              "    <tr>\n",
              "      <th>1</th>\n",
              "      <td>2</td>\n",
              "      <td>0</td>\n",
              "      <td>189.812360</td>\n",
              "      <td>197.276925</td>\n",
              "      <td>160.930905</td>\n",
              "      <td>197.587089</td>\n",
              "      <td>192.195973</td>\n",
              "      <td>194.666661</td>\n",
              "      <td>201.669789</td>\n",
              "      <td>187.436239</td>\n",
              "      <td>196.766512</td>\n",
              "      <td>191.081678</td>\n",
              "    </tr>\n",
              "    <tr>\n",
              "      <th>2</th>\n",
              "      <td>3</td>\n",
              "      <td>0</td>\n",
              "      <td>195.701129</td>\n",
              "      <td>197.603492</td>\n",
              "      <td>160.558204</td>\n",
              "      <td>195.922677</td>\n",
              "      <td>194.815197</td>\n",
              "      <td>194.713178</td>\n",
              "      <td>196.443662</td>\n",
              "      <td>188.786681</td>\n",
              "      <td>197.238927</td>\n",
              "      <td>194.375613</td>\n",
              "    </tr>\n",
              "    <tr>\n",
              "      <th>3</th>\n",
              "      <td>4</td>\n",
              "      <td>0</td>\n",
              "      <td>185.222741</td>\n",
              "      <td>195.595038</td>\n",
              "      <td>174.492461</td>\n",
              "      <td>194.051625</td>\n",
              "      <td>198.489453</td>\n",
              "      <td>200.517259</td>\n",
              "      <td>196.386578</td>\n",
              "      <td>200.080633</td>\n",
              "      <td>197.848037</td>\n",
              "      <td>206.754103</td>\n",
              "    </tr>\n",
              "    <tr>\n",
              "      <th>4</th>\n",
              "      <td>5</td>\n",
              "      <td>0</td>\n",
              "      <td>194.886473</td>\n",
              "      <td>196.721925</td>\n",
              "      <td>180.923926</td>\n",
              "      <td>193.229550</td>\n",
              "      <td>194.106990</td>\n",
              "      <td>196.399191</td>\n",
              "      <td>190.816571</td>\n",
              "      <td>190.248573</td>\n",
              "      <td>201.052747</td>\n",
              "      <td>206.314634</td>\n",
              "    </tr>\n",
              "  </tbody>\n",
              "</table>\n",
              "</div>\n",
              "      <button class=\"colab-df-convert\" onclick=\"convertToInteractive('df-e04000f1-9a25-4f7c-a7f7-2e8357fdc311')\"\n",
              "              title=\"Convert this dataframe to an interactive table.\"\n",
              "              style=\"display:none;\">\n",
              "        \n",
              "  <svg xmlns=\"http://www.w3.org/2000/svg\" height=\"24px\"viewBox=\"0 0 24 24\"\n",
              "       width=\"24px\">\n",
              "    <path d=\"M0 0h24v24H0V0z\" fill=\"none\"/>\n",
              "    <path d=\"M18.56 5.44l.94 2.06.94-2.06 2.06-.94-2.06-.94-.94-2.06-.94 2.06-2.06.94zm-11 1L8.5 8.5l.94-2.06 2.06-.94-2.06-.94L8.5 2.5l-.94 2.06-2.06.94zm10 10l.94 2.06.94-2.06 2.06-.94-2.06-.94-.94-2.06-.94 2.06-2.06.94z\"/><path d=\"M17.41 7.96l-1.37-1.37c-.4-.4-.92-.59-1.43-.59-.52 0-1.04.2-1.43.59L10.3 9.45l-7.72 7.72c-.78.78-.78 2.05 0 2.83L4 21.41c.39.39.9.59 1.41.59.51 0 1.02-.2 1.41-.59l7.78-7.78 2.81-2.81c.8-.78.8-2.07 0-2.86zM5.41 20L4 18.59l7.72-7.72 1.47 1.35L5.41 20z\"/>\n",
              "  </svg>\n",
              "      </button>\n",
              "      \n",
              "  <style>\n",
              "    .colab-df-container {\n",
              "      display:flex;\n",
              "      flex-wrap:wrap;\n",
              "      gap: 12px;\n",
              "    }\n",
              "\n",
              "    .colab-df-convert {\n",
              "      background-color: #E8F0FE;\n",
              "      border: none;\n",
              "      border-radius: 50%;\n",
              "      cursor: pointer;\n",
              "      display: none;\n",
              "      fill: #1967D2;\n",
              "      height: 32px;\n",
              "      padding: 0 0 0 0;\n",
              "      width: 32px;\n",
              "    }\n",
              "\n",
              "    .colab-df-convert:hover {\n",
              "      background-color: #E2EBFA;\n",
              "      box-shadow: 0px 1px 2px rgba(60, 64, 67, 0.3), 0px 1px 3px 1px rgba(60, 64, 67, 0.15);\n",
              "      fill: #174EA6;\n",
              "    }\n",
              "\n",
              "    [theme=dark] .colab-df-convert {\n",
              "      background-color: #3B4455;\n",
              "      fill: #D2E3FC;\n",
              "    }\n",
              "\n",
              "    [theme=dark] .colab-df-convert:hover {\n",
              "      background-color: #434B5C;\n",
              "      box-shadow: 0px 1px 3px 1px rgba(0, 0, 0, 0.15);\n",
              "      filter: drop-shadow(0px 1px 2px rgba(0, 0, 0, 0.3));\n",
              "      fill: #FFFFFF;\n",
              "    }\n",
              "  </style>\n",
              "\n",
              "      <script>\n",
              "        const buttonEl =\n",
              "          document.querySelector('#df-e04000f1-9a25-4f7c-a7f7-2e8357fdc311 button.colab-df-convert');\n",
              "        buttonEl.style.display =\n",
              "          google.colab.kernel.accessAllowed ? 'block' : 'none';\n",
              "\n",
              "        async function convertToInteractive(key) {\n",
              "          const element = document.querySelector('#df-e04000f1-9a25-4f7c-a7f7-2e8357fdc311');\n",
              "          const dataTable =\n",
              "            await google.colab.kernel.invokeFunction('convertToInteractive',\n",
              "                                                     [key], {});\n",
              "          if (!dataTable) return;\n",
              "\n",
              "          const docLinkHtml = 'Like what you see? Visit the ' +\n",
              "            '<a target=\"_blank\" href=https://colab.research.google.com/notebooks/data_table.ipynb>data table notebook</a>'\n",
              "            + ' to learn more about interactive tables.';\n",
              "          element.innerHTML = '';\n",
              "          dataTable['output_type'] = 'display_data';\n",
              "          await google.colab.output.renderOutput(dataTable, element);\n",
              "          const docLink = document.createElement('div');\n",
              "          docLink.innerHTML = docLinkHtml;\n",
              "          element.appendChild(docLink);\n",
              "        }\n",
              "      </script>\n",
              "    </div>\n",
              "  </div>\n",
              "  "
            ]
          },
          "metadata": {},
          "execution_count": 9
        }
      ],
      "source": [
        "df = pd.read_csv('Grease-detect/vibration_data_and_header.csv')\n",
        "#df['total'] = X.apply(sum, axis=1)\n",
        "df.head()\n",
        "#(df[df['low_grease']==0].total.min(), df[df['low_grease']==0].total.max())\n"
      ]
    },
    {
      "cell_type": "code",
      "execution_count": 10,
      "id": "8da3af2c",
      "metadata": {
        "id": "8da3af2c"
      },
      "outputs": [],
      "source": [
        "#df.tail(10)\n",
        "#(df[df['low_grease']==1].total.min(), df[df['low_grease']==1].total.max() )"
      ]
    },
    {
      "cell_type": "code",
      "execution_count": 11,
      "id": "895abb42",
      "metadata": {
        "id": "895abb42"
      },
      "outputs": [],
      "source": [
        "X = df.drop(df[['identifier', 'low_grease']], axis=1)\n",
        "y = df.low_grease"
      ]
    },
    {
      "cell_type": "code",
      "execution_count": 12,
      "id": "fdc024ab",
      "metadata": {
        "id": "fdc024ab",
        "outputId": "ee1c55e8-3e00-4ab8-f3d1-a24b6557d609",
        "colab": {
          "base_uri": "https://localhost:8080/",
          "height": 363
        }
      },
      "outputs": [
        {
          "output_type": "execute_result",
          "data": {
            "text/plain": [
              "          s1_fb1    s1_fb2    s1_fb3    s1_fb4    s1_fb5    s2_fb1    s2_fb2  \\\n",
              "s1_fb1  1.000000 -0.095896 -0.135694  0.575644 -0.203017  0.916722 -0.149892   \n",
              "s1_fb2 -0.095896  1.000000 -0.043519  0.055642  0.035878  0.000329  0.910997   \n",
              "s1_fb3 -0.135694 -0.043519  1.000000 -0.178150  0.614246 -0.100592  0.071346   \n",
              "s1_fb4  0.575644  0.055642 -0.178150  1.000000 -0.051482  0.543603 -0.003723   \n",
              "s1_fb5 -0.203017  0.035878  0.614246 -0.051482  1.000000 -0.172919  0.154276   \n",
              "s2_fb1  0.916722  0.000329 -0.100592  0.543603 -0.172919  1.000000 -0.053908   \n",
              "s2_fb2 -0.149892  0.910997  0.071346 -0.003723  0.154276 -0.053908  1.000000   \n",
              "s2_fb3 -0.271194  0.013109  0.560362 -0.190884  0.677660 -0.276654  0.141032   \n",
              "s2_fb4  0.534567  0.161695 -0.153464  0.915100 -0.023558  0.549628  0.098487   \n",
              "s2_fb5 -0.275239 -0.029341  0.554315 -0.124573  0.910521 -0.272505  0.091226   \n",
              "\n",
              "          s2_fb3    s2_fb4    s2_fb5      diff  \n",
              "s1_fb1 -0.271194  0.534567 -0.275239  0.350874  \n",
              "s1_fb2  0.013109  0.161695 -0.029341  0.149601  \n",
              "s1_fb3  0.560362 -0.153464  0.554315  0.267965  \n",
              "s1_fb4 -0.190884  0.915100 -0.124573  0.293200  \n",
              "s1_fb5  0.677660 -0.023558  0.910521  0.315951  \n",
              "s2_fb1 -0.276654  0.549628 -0.272505  0.320762  \n",
              "s2_fb2  0.141032  0.098487  0.091226  0.186098  \n",
              "s2_fb3  1.000000 -0.194771  0.720296  0.338440  \n",
              "s2_fb4 -0.194771  1.000000 -0.126283  0.306395  \n",
              "s2_fb5  0.720296 -0.126283  1.000000  0.344922  "
            ],
            "text/html": [
              "\n",
              "  <div id=\"df-d60cce16-3c93-490f-bf56-4778b0a3f748\">\n",
              "    <div class=\"colab-df-container\">\n",
              "      <div>\n",
              "<style scoped>\n",
              "    .dataframe tbody tr th:only-of-type {\n",
              "        vertical-align: middle;\n",
              "    }\n",
              "\n",
              "    .dataframe tbody tr th {\n",
              "        vertical-align: top;\n",
              "    }\n",
              "\n",
              "    .dataframe thead th {\n",
              "        text-align: right;\n",
              "    }\n",
              "</style>\n",
              "<table border=\"1\" class=\"dataframe\">\n",
              "  <thead>\n",
              "    <tr style=\"text-align: right;\">\n",
              "      <th></th>\n",
              "      <th>s1_fb1</th>\n",
              "      <th>s1_fb2</th>\n",
              "      <th>s1_fb3</th>\n",
              "      <th>s1_fb4</th>\n",
              "      <th>s1_fb5</th>\n",
              "      <th>s2_fb1</th>\n",
              "      <th>s2_fb2</th>\n",
              "      <th>s2_fb3</th>\n",
              "      <th>s2_fb4</th>\n",
              "      <th>s2_fb5</th>\n",
              "      <th>diff</th>\n",
              "    </tr>\n",
              "  </thead>\n",
              "  <tbody>\n",
              "    <tr>\n",
              "      <th>s1_fb1</th>\n",
              "      <td>1.000000</td>\n",
              "      <td>-0.095896</td>\n",
              "      <td>-0.135694</td>\n",
              "      <td>0.575644</td>\n",
              "      <td>-0.203017</td>\n",
              "      <td>0.916722</td>\n",
              "      <td>-0.149892</td>\n",
              "      <td>-0.271194</td>\n",
              "      <td>0.534567</td>\n",
              "      <td>-0.275239</td>\n",
              "      <td>0.350874</td>\n",
              "    </tr>\n",
              "    <tr>\n",
              "      <th>s1_fb2</th>\n",
              "      <td>-0.095896</td>\n",
              "      <td>1.000000</td>\n",
              "      <td>-0.043519</td>\n",
              "      <td>0.055642</td>\n",
              "      <td>0.035878</td>\n",
              "      <td>0.000329</td>\n",
              "      <td>0.910997</td>\n",
              "      <td>0.013109</td>\n",
              "      <td>0.161695</td>\n",
              "      <td>-0.029341</td>\n",
              "      <td>0.149601</td>\n",
              "    </tr>\n",
              "    <tr>\n",
              "      <th>s1_fb3</th>\n",
              "      <td>-0.135694</td>\n",
              "      <td>-0.043519</td>\n",
              "      <td>1.000000</td>\n",
              "      <td>-0.178150</td>\n",
              "      <td>0.614246</td>\n",
              "      <td>-0.100592</td>\n",
              "      <td>0.071346</td>\n",
              "      <td>0.560362</td>\n",
              "      <td>-0.153464</td>\n",
              "      <td>0.554315</td>\n",
              "      <td>0.267965</td>\n",
              "    </tr>\n",
              "    <tr>\n",
              "      <th>s1_fb4</th>\n",
              "      <td>0.575644</td>\n",
              "      <td>0.055642</td>\n",
              "      <td>-0.178150</td>\n",
              "      <td>1.000000</td>\n",
              "      <td>-0.051482</td>\n",
              "      <td>0.543603</td>\n",
              "      <td>-0.003723</td>\n",
              "      <td>-0.190884</td>\n",
              "      <td>0.915100</td>\n",
              "      <td>-0.124573</td>\n",
              "      <td>0.293200</td>\n",
              "    </tr>\n",
              "    <tr>\n",
              "      <th>s1_fb5</th>\n",
              "      <td>-0.203017</td>\n",
              "      <td>0.035878</td>\n",
              "      <td>0.614246</td>\n",
              "      <td>-0.051482</td>\n",
              "      <td>1.000000</td>\n",
              "      <td>-0.172919</td>\n",
              "      <td>0.154276</td>\n",
              "      <td>0.677660</td>\n",
              "      <td>-0.023558</td>\n",
              "      <td>0.910521</td>\n",
              "      <td>0.315951</td>\n",
              "    </tr>\n",
              "    <tr>\n",
              "      <th>s2_fb1</th>\n",
              "      <td>0.916722</td>\n",
              "      <td>0.000329</td>\n",
              "      <td>-0.100592</td>\n",
              "      <td>0.543603</td>\n",
              "      <td>-0.172919</td>\n",
              "      <td>1.000000</td>\n",
              "      <td>-0.053908</td>\n",
              "      <td>-0.276654</td>\n",
              "      <td>0.549628</td>\n",
              "      <td>-0.272505</td>\n",
              "      <td>0.320762</td>\n",
              "    </tr>\n",
              "    <tr>\n",
              "      <th>s2_fb2</th>\n",
              "      <td>-0.149892</td>\n",
              "      <td>0.910997</td>\n",
              "      <td>0.071346</td>\n",
              "      <td>-0.003723</td>\n",
              "      <td>0.154276</td>\n",
              "      <td>-0.053908</td>\n",
              "      <td>1.000000</td>\n",
              "      <td>0.141032</td>\n",
              "      <td>0.098487</td>\n",
              "      <td>0.091226</td>\n",
              "      <td>0.186098</td>\n",
              "    </tr>\n",
              "    <tr>\n",
              "      <th>s2_fb3</th>\n",
              "      <td>-0.271194</td>\n",
              "      <td>0.013109</td>\n",
              "      <td>0.560362</td>\n",
              "      <td>-0.190884</td>\n",
              "      <td>0.677660</td>\n",
              "      <td>-0.276654</td>\n",
              "      <td>0.141032</td>\n",
              "      <td>1.000000</td>\n",
              "      <td>-0.194771</td>\n",
              "      <td>0.720296</td>\n",
              "      <td>0.338440</td>\n",
              "    </tr>\n",
              "    <tr>\n",
              "      <th>s2_fb4</th>\n",
              "      <td>0.534567</td>\n",
              "      <td>0.161695</td>\n",
              "      <td>-0.153464</td>\n",
              "      <td>0.915100</td>\n",
              "      <td>-0.023558</td>\n",
              "      <td>0.549628</td>\n",
              "      <td>0.098487</td>\n",
              "      <td>-0.194771</td>\n",
              "      <td>1.000000</td>\n",
              "      <td>-0.126283</td>\n",
              "      <td>0.306395</td>\n",
              "    </tr>\n",
              "    <tr>\n",
              "      <th>s2_fb5</th>\n",
              "      <td>-0.275239</td>\n",
              "      <td>-0.029341</td>\n",
              "      <td>0.554315</td>\n",
              "      <td>-0.124573</td>\n",
              "      <td>0.910521</td>\n",
              "      <td>-0.272505</td>\n",
              "      <td>0.091226</td>\n",
              "      <td>0.720296</td>\n",
              "      <td>-0.126283</td>\n",
              "      <td>1.000000</td>\n",
              "      <td>0.344922</td>\n",
              "    </tr>\n",
              "  </tbody>\n",
              "</table>\n",
              "</div>\n",
              "      <button class=\"colab-df-convert\" onclick=\"convertToInteractive('df-d60cce16-3c93-490f-bf56-4778b0a3f748')\"\n",
              "              title=\"Convert this dataframe to an interactive table.\"\n",
              "              style=\"display:none;\">\n",
              "        \n",
              "  <svg xmlns=\"http://www.w3.org/2000/svg\" height=\"24px\"viewBox=\"0 0 24 24\"\n",
              "       width=\"24px\">\n",
              "    <path d=\"M0 0h24v24H0V0z\" fill=\"none\"/>\n",
              "    <path d=\"M18.56 5.44l.94 2.06.94-2.06 2.06-.94-2.06-.94-.94-2.06-.94 2.06-2.06.94zm-11 1L8.5 8.5l.94-2.06 2.06-.94-2.06-.94L8.5 2.5l-.94 2.06-2.06.94zm10 10l.94 2.06.94-2.06 2.06-.94-2.06-.94-.94-2.06-.94 2.06-2.06.94z\"/><path d=\"M17.41 7.96l-1.37-1.37c-.4-.4-.92-.59-1.43-.59-.52 0-1.04.2-1.43.59L10.3 9.45l-7.72 7.72c-.78.78-.78 2.05 0 2.83L4 21.41c.39.39.9.59 1.41.59.51 0 1.02-.2 1.41-.59l7.78-7.78 2.81-2.81c.8-.78.8-2.07 0-2.86zM5.41 20L4 18.59l7.72-7.72 1.47 1.35L5.41 20z\"/>\n",
              "  </svg>\n",
              "      </button>\n",
              "      \n",
              "  <style>\n",
              "    .colab-df-container {\n",
              "      display:flex;\n",
              "      flex-wrap:wrap;\n",
              "      gap: 12px;\n",
              "    }\n",
              "\n",
              "    .colab-df-convert {\n",
              "      background-color: #E8F0FE;\n",
              "      border: none;\n",
              "      border-radius: 50%;\n",
              "      cursor: pointer;\n",
              "      display: none;\n",
              "      fill: #1967D2;\n",
              "      height: 32px;\n",
              "      padding: 0 0 0 0;\n",
              "      width: 32px;\n",
              "    }\n",
              "\n",
              "    .colab-df-convert:hover {\n",
              "      background-color: #E2EBFA;\n",
              "      box-shadow: 0px 1px 2px rgba(60, 64, 67, 0.3), 0px 1px 3px 1px rgba(60, 64, 67, 0.15);\n",
              "      fill: #174EA6;\n",
              "    }\n",
              "\n",
              "    [theme=dark] .colab-df-convert {\n",
              "      background-color: #3B4455;\n",
              "      fill: #D2E3FC;\n",
              "    }\n",
              "\n",
              "    [theme=dark] .colab-df-convert:hover {\n",
              "      background-color: #434B5C;\n",
              "      box-shadow: 0px 1px 3px 1px rgba(0, 0, 0, 0.15);\n",
              "      filter: drop-shadow(0px 1px 2px rgba(0, 0, 0, 0.3));\n",
              "      fill: #FFFFFF;\n",
              "    }\n",
              "  </style>\n",
              "\n",
              "      <script>\n",
              "        const buttonEl =\n",
              "          document.querySelector('#df-d60cce16-3c93-490f-bf56-4778b0a3f748 button.colab-df-convert');\n",
              "        buttonEl.style.display =\n",
              "          google.colab.kernel.accessAllowed ? 'block' : 'none';\n",
              "\n",
              "        async function convertToInteractive(key) {\n",
              "          const element = document.querySelector('#df-d60cce16-3c93-490f-bf56-4778b0a3f748');\n",
              "          const dataTable =\n",
              "            await google.colab.kernel.invokeFunction('convertToInteractive',\n",
              "                                                     [key], {});\n",
              "          if (!dataTable) return;\n",
              "\n",
              "          const docLinkHtml = 'Like what you see? Visit the ' +\n",
              "            '<a target=\"_blank\" href=https://colab.research.google.com/notebooks/data_table.ipynb>data table notebook</a>'\n",
              "            + ' to learn more about interactive tables.';\n",
              "          element.innerHTML = '';\n",
              "          dataTable['output_type'] = 'display_data';\n",
              "          await google.colab.output.renderOutput(dataTable, element);\n",
              "          const docLink = document.createElement('div');\n",
              "          docLink.innerHTML = docLinkHtml;\n",
              "          element.appendChild(docLink);\n",
              "        }\n",
              "      </script>\n",
              "    </div>\n",
              "  </div>\n",
              "  "
            ]
          },
          "metadata": {},
          "execution_count": 12
        }
      ],
      "source": [
        "corel = X.corr()\n",
        "corel['diff'] = abs(corel[corel.columns]).sum(axis=1)\n",
        "corel['diff'] = (corel['diff'] - 1)/9\n",
        "corel"
      ]
    },
    {
      "cell_type": "code",
      "execution_count": 13,
      "id": "4da440e4",
      "metadata": {
        "id": "4da440e4",
        "outputId": "fd726564-9153-40d8-d63a-5b59b0e8cec9",
        "colab": {
          "base_uri": "https://localhost:8080/",
          "height": 206
        }
      },
      "outputs": [
        {
          "output_type": "execute_result",
          "data": {
            "text/plain": [
              "          s2_fb1    s2_fb2    s2_fb3    s2_fb4    s2_fb5\n",
              "s1_fb1  0.916722 -0.149892 -0.271194  0.534567 -0.275239\n",
              "s1_fb2  0.000329  0.910997  0.013109  0.161695 -0.029341\n",
              "s1_fb3 -0.100592  0.071346  0.560362 -0.153464  0.554315\n",
              "s1_fb4  0.543603 -0.003723 -0.190884  0.915100 -0.124573\n",
              "s1_fb5 -0.172919  0.154276  0.677660 -0.023558  0.910521"
            ],
            "text/html": [
              "\n",
              "  <div id=\"df-450a0d0c-7cfd-4629-8445-1dad6a7bb7d0\">\n",
              "    <div class=\"colab-df-container\">\n",
              "      <div>\n",
              "<style scoped>\n",
              "    .dataframe tbody tr th:only-of-type {\n",
              "        vertical-align: middle;\n",
              "    }\n",
              "\n",
              "    .dataframe tbody tr th {\n",
              "        vertical-align: top;\n",
              "    }\n",
              "\n",
              "    .dataframe thead th {\n",
              "        text-align: right;\n",
              "    }\n",
              "</style>\n",
              "<table border=\"1\" class=\"dataframe\">\n",
              "  <thead>\n",
              "    <tr style=\"text-align: right;\">\n",
              "      <th></th>\n",
              "      <th>s2_fb1</th>\n",
              "      <th>s2_fb2</th>\n",
              "      <th>s2_fb3</th>\n",
              "      <th>s2_fb4</th>\n",
              "      <th>s2_fb5</th>\n",
              "    </tr>\n",
              "  </thead>\n",
              "  <tbody>\n",
              "    <tr>\n",
              "      <th>s1_fb1</th>\n",
              "      <td>0.916722</td>\n",
              "      <td>-0.149892</td>\n",
              "      <td>-0.271194</td>\n",
              "      <td>0.534567</td>\n",
              "      <td>-0.275239</td>\n",
              "    </tr>\n",
              "    <tr>\n",
              "      <th>s1_fb2</th>\n",
              "      <td>0.000329</td>\n",
              "      <td>0.910997</td>\n",
              "      <td>0.013109</td>\n",
              "      <td>0.161695</td>\n",
              "      <td>-0.029341</td>\n",
              "    </tr>\n",
              "    <tr>\n",
              "      <th>s1_fb3</th>\n",
              "      <td>-0.100592</td>\n",
              "      <td>0.071346</td>\n",
              "      <td>0.560362</td>\n",
              "      <td>-0.153464</td>\n",
              "      <td>0.554315</td>\n",
              "    </tr>\n",
              "    <tr>\n",
              "      <th>s1_fb4</th>\n",
              "      <td>0.543603</td>\n",
              "      <td>-0.003723</td>\n",
              "      <td>-0.190884</td>\n",
              "      <td>0.915100</td>\n",
              "      <td>-0.124573</td>\n",
              "    </tr>\n",
              "    <tr>\n",
              "      <th>s1_fb5</th>\n",
              "      <td>-0.172919</td>\n",
              "      <td>0.154276</td>\n",
              "      <td>0.677660</td>\n",
              "      <td>-0.023558</td>\n",
              "      <td>0.910521</td>\n",
              "    </tr>\n",
              "  </tbody>\n",
              "</table>\n",
              "</div>\n",
              "      <button class=\"colab-df-convert\" onclick=\"convertToInteractive('df-450a0d0c-7cfd-4629-8445-1dad6a7bb7d0')\"\n",
              "              title=\"Convert this dataframe to an interactive table.\"\n",
              "              style=\"display:none;\">\n",
              "        \n",
              "  <svg xmlns=\"http://www.w3.org/2000/svg\" height=\"24px\"viewBox=\"0 0 24 24\"\n",
              "       width=\"24px\">\n",
              "    <path d=\"M0 0h24v24H0V0z\" fill=\"none\"/>\n",
              "    <path d=\"M18.56 5.44l.94 2.06.94-2.06 2.06-.94-2.06-.94-.94-2.06-.94 2.06-2.06.94zm-11 1L8.5 8.5l.94-2.06 2.06-.94-2.06-.94L8.5 2.5l-.94 2.06-2.06.94zm10 10l.94 2.06.94-2.06 2.06-.94-2.06-.94-.94-2.06-.94 2.06-2.06.94z\"/><path d=\"M17.41 7.96l-1.37-1.37c-.4-.4-.92-.59-1.43-.59-.52 0-1.04.2-1.43.59L10.3 9.45l-7.72 7.72c-.78.78-.78 2.05 0 2.83L4 21.41c.39.39.9.59 1.41.59.51 0 1.02-.2 1.41-.59l7.78-7.78 2.81-2.81c.8-.78.8-2.07 0-2.86zM5.41 20L4 18.59l7.72-7.72 1.47 1.35L5.41 20z\"/>\n",
              "  </svg>\n",
              "      </button>\n",
              "      \n",
              "  <style>\n",
              "    .colab-df-container {\n",
              "      display:flex;\n",
              "      flex-wrap:wrap;\n",
              "      gap: 12px;\n",
              "    }\n",
              "\n",
              "    .colab-df-convert {\n",
              "      background-color: #E8F0FE;\n",
              "      border: none;\n",
              "      border-radius: 50%;\n",
              "      cursor: pointer;\n",
              "      display: none;\n",
              "      fill: #1967D2;\n",
              "      height: 32px;\n",
              "      padding: 0 0 0 0;\n",
              "      width: 32px;\n",
              "    }\n",
              "\n",
              "    .colab-df-convert:hover {\n",
              "      background-color: #E2EBFA;\n",
              "      box-shadow: 0px 1px 2px rgba(60, 64, 67, 0.3), 0px 1px 3px 1px rgba(60, 64, 67, 0.15);\n",
              "      fill: #174EA6;\n",
              "    }\n",
              "\n",
              "    [theme=dark] .colab-df-convert {\n",
              "      background-color: #3B4455;\n",
              "      fill: #D2E3FC;\n",
              "    }\n",
              "\n",
              "    [theme=dark] .colab-df-convert:hover {\n",
              "      background-color: #434B5C;\n",
              "      box-shadow: 0px 1px 3px 1px rgba(0, 0, 0, 0.15);\n",
              "      filter: drop-shadow(0px 1px 2px rgba(0, 0, 0, 0.3));\n",
              "      fill: #FFFFFF;\n",
              "    }\n",
              "  </style>\n",
              "\n",
              "      <script>\n",
              "        const buttonEl =\n",
              "          document.querySelector('#df-450a0d0c-7cfd-4629-8445-1dad6a7bb7d0 button.colab-df-convert');\n",
              "        buttonEl.style.display =\n",
              "          google.colab.kernel.accessAllowed ? 'block' : 'none';\n",
              "\n",
              "        async function convertToInteractive(key) {\n",
              "          const element = document.querySelector('#df-450a0d0c-7cfd-4629-8445-1dad6a7bb7d0');\n",
              "          const dataTable =\n",
              "            await google.colab.kernel.invokeFunction('convertToInteractive',\n",
              "                                                     [key], {});\n",
              "          if (!dataTable) return;\n",
              "\n",
              "          const docLinkHtml = 'Like what you see? Visit the ' +\n",
              "            '<a target=\"_blank\" href=https://colab.research.google.com/notebooks/data_table.ipynb>data table notebook</a>'\n",
              "            + ' to learn more about interactive tables.';\n",
              "          element.innerHTML = '';\n",
              "          dataTable['output_type'] = 'display_data';\n",
              "          await google.colab.output.renderOutput(dataTable, element);\n",
              "          const docLink = document.createElement('div');\n",
              "          docLink.innerHTML = docLinkHtml;\n",
              "          element.appendChild(docLink);\n",
              "        }\n",
              "      </script>\n",
              "    </div>\n",
              "  </div>\n",
              "  "
            ]
          },
          "metadata": {},
          "execution_count": 13
        }
      ],
      "source": [
        "corel.iloc[:5, 5:-1]"
      ]
    },
    {
      "cell_type": "code",
      "execution_count": 14,
      "id": "0bc6cf03",
      "metadata": {
        "id": "0bc6cf03"
      },
      "outputs": [],
      "source": [
        "from sklearn.model_selection import train_test_split\n",
        "# 1 way to use features\n",
        "#X = X.iloc[:, :5]\n",
        "\n",
        "X_train, X_test, y_train, y_test = train_test_split(X, y, test_size=0.1, random_state=0)"
      ]
    },
    {
      "cell_type": "code",
      "execution_count": 15,
      "id": "7a38d727",
      "metadata": {
        "id": "7a38d727"
      },
      "outputs": [],
      "source": [
        "from sklearn.model_selection import GridSearchCV\n",
        "from sklearn.model_selection import StratifiedKFold\n",
        "from sklearn.svm import SVC\n",
        "from sklearn.linear_model import LogisticRegression\n",
        "from sklearn import tree\n",
        "from sklearn.pipeline import Pipeline\n",
        "from sklearn.ensemble import GradientBoostingClassifier, RandomForestClassifier\n",
        "from sklearn.preprocessing import PolynomialFeatures\n",
        "from sklearn.tree import DecisionTreeClassifier\n",
        "from sklearn.preprocessing import StandardScaler\n",
        "from sklearn.neural_network import MLPClassifier\n",
        "from sklearn.metrics import f1_score"
      ]
    },
    {
      "cell_type": "code",
      "execution_count": 16,
      "id": "79f5b81c",
      "metadata": {
        "id": "79f5b81c"
      },
      "outputs": [],
      "source": [
        "\n",
        "\n",
        "def call_grd_search(clf, params, X_data, y_data, scoring, cv):\n",
        "    kfolds = StratifiedKFold(cv)\n",
        "    gscv = GridSearchCV(clf, param_grid=params, cv=kfolds.split(X_data, y_data), scoring=scoring, n_jobs=-1).fit(X_data, y_data)\n",
        "    return gscv\n",
        "\n",
        "def choose_best_clf(classifiers_dict, X_data, y_data, scoring='precision', cv=5):\n",
        "    best_score, best_clf = 0, None\n",
        "    for name, clf in classifiers_dict.items():\n",
        "        clf, params = clf\n",
        "        clf = Pipeline(steps=[('scaler', StandardScaler()), (name, clf)])\n",
        "        gscv = call_grd_search(clf, params, X_data, y_data, scoring, cv)\n",
        "        score = gscv.best_score_\n",
        "        parametrs =gscv.best_params_\n",
        "        print(f'Classifier : {name}, mean {scoring}: {score}')\n",
        "        print(f'Best parameters : {parametrs}')\n",
        "        if score > best_score:\n",
        "            best_score = score\n",
        "            best_clf = (name, gscv.best_estimator_)\n",
        "    print(f'Best classifier : {best_clf[0]}, mean {scoring}: {best_score}')\n",
        "    return best_clf\n",
        "\n",
        "\n"
      ]
    },
    {
      "cell_type": "code",
      "source": [
        "seed = 0"
      ],
      "metadata": {
        "id": "_Rf6gjJ8b9bP"
      },
      "id": "_Rf6gjJ8b9bP",
      "execution_count": 17,
      "outputs": []
    },
    {
      "cell_type": "code",
      "execution_count": 18,
      "id": "70474224",
      "metadata": {
        "id": "70474224"
      },
      "outputs": [],
      "source": [
        "X_train, X_test, y_train, y_test = train_test_split(X, y, test_size=0.1, random_state=0)"
      ]
    },
    {
      "cell_type": "code",
      "execution_count": 19,
      "id": "2a8fe680",
      "metadata": {
        "id": "2a8fe680"
      },
      "outputs": [],
      "source": [
        "X_new = pd.DataFrame()\n",
        "\n",
        "gboost = GradientBoostingClassifier(max_depth=12, max_features=2, min_samples_leaf=7,\n",
        "                                    min_samples_split=20, random_state=seed).fit(X_train, y_train)\n"
      ]
    },
    {
      "cell_type": "code",
      "source": [
        "from sklearn.preprocessing import MinMaxScaler"
      ],
      "metadata": {
        "id": "NzUvLD1bdBc8"
      },
      "id": "NzUvLD1bdBc8",
      "execution_count": 20,
      "outputs": []
    },
    {
      "cell_type": "code",
      "source": [
        "scaler = MinMaxScaler()\n",
        "scaler.fit(X_train)\n",
        "X_train_scaled = scaler.transform(X_train)\n",
        "X_test_scaled = scaler.transform(X_test)"
      ],
      "metadata": {
        "id": "Nc3DQ67HdLBn"
      },
      "id": "Nc3DQ67HdLBn",
      "execution_count": 21,
      "outputs": []
    },
    {
      "cell_type": "code",
      "source": [
        "mlp = MLPClassifier(activation='relu', hidden_layer_sizes=(128, 64, 16,), alpha=0.001, max_iter=150,\n",
        "                    random_state=seed).fit(X_train_scaled, y_train)"
      ],
      "metadata": {
        "id": "BMppzloFc_74",
        "outputId": "7f93811c-03ec-467c-faf8-1c588eb604f4",
        "colab": {
          "base_uri": "https://localhost:8080/"
        }
      },
      "id": "BMppzloFc_74",
      "execution_count": 22,
      "outputs": [
        {
          "output_type": "stream",
          "name": "stderr",
          "text": [
            "/usr/local/lib/python3.7/dist-packages/sklearn/neural_network/_multilayer_perceptron.py:696: ConvergenceWarning: Stochastic Optimizer: Maximum iterations (150) reached and the optimization hasn't converged yet.\n",
            "  ConvergenceWarning,\n"
          ]
        }
      ]
    },
    {
      "cell_type": "code",
      "source": [
        "svm = SVC(C=500, degree= 1, kernel='rbf', random_state=seed, probability=True).fit(X_train, y_train)\n"
      ],
      "metadata": {
        "id": "_41ORmWnercm"
      },
      "id": "_41ORmWnercm",
      "execution_count": 61,
      "outputs": []
    },
    {
      "cell_type": "code",
      "execution_count": 62,
      "id": "02609891",
      "metadata": {
        "id": "02609891",
        "outputId": "ab749756-1e4a-41e2-f6ca-ca8dbc490532",
        "colab": {
          "base_uri": "https://localhost:8080/"
        }
      },
      "outputs": [
        {
          "output_type": "stream",
          "name": "stdout",
          "text": [
            "Gradient boosting f1 : 0.849772382397572\n",
            "SVM f1 : 0.8436699128651973\n",
            "MLP f1 : 0.8164300202839755\n"
          ]
        }
      ],
      "source": [
        "print('Gradient boosting f1 : {}'.format(f1_score(y_true=y_test, y_pred=gboost.predict(X_test))))\n",
        "print('SVM f1 : {}'.format(f1_score(y_true=y_test, y_pred=svm.predict(X_test))))\n",
        "print('MLP f1 : {}'.format(f1_score(y_true=y_test, y_pred=mlp.predict(X_test_scaled))))\n"
      ]
    },
    {
      "cell_type": "code",
      "source": [
        "X_new['xgboost_prob_0'] = gboost.predict_proba(X)[:,0]\n",
        "X_new['xgboost_prob_1'] = gboost.predict_proba(X)[:,1]\n",
        "\n",
        "X_new['svm_prob_0'] = svm.predict_proba(X)[:,0]\n",
        "X_new['svm_prob_1'] = svm.predict_proba(X)[:,1]\n",
        "\n",
        "X_new['mlp_prob_0'] = mlp.predict_proba(X)[:,0]\n",
        "X_new['mlp_prob_1'] = mlp.predict_proba(X)[:,1]"
      ],
      "metadata": {
        "id": "R9FYae1WcX4w",
        "outputId": "88a18c8e-3788-496e-c48c-1c4916a4b0cb",
        "colab": {
          "base_uri": "https://localhost:8080/"
        }
      },
      "id": "R9FYae1WcX4w",
      "execution_count": 63,
      "outputs": [
        {
          "output_type": "stream",
          "name": "stderr",
          "text": [
            "/usr/local/lib/python3.7/dist-packages/sklearn/base.py:444: UserWarning: X has feature names, but MLPClassifier was fitted without feature names\n",
            "  f\"X has feature names, but {self.__class__.__name__} was fitted without\"\n",
            "/usr/local/lib/python3.7/dist-packages/sklearn/base.py:444: UserWarning: X has feature names, but MLPClassifier was fitted without feature names\n",
            "  f\"X has feature names, but {self.__class__.__name__} was fitted without\"\n"
          ]
        }
      ]
    },
    {
      "cell_type": "code",
      "source": [
        "X_new.shape, y.shape"
      ],
      "metadata": {
        "id": "gqtKQ9slU4r5",
        "outputId": "e30e0e37-7a83-4f0e-f453-d99744961ad7",
        "colab": {
          "base_uri": "https://localhost:8080/"
        }
      },
      "id": "gqtKQ9slU4r5",
      "execution_count": 64,
      "outputs": [
        {
          "output_type": "execute_result",
          "data": {
            "text/plain": [
              "((30380, 6), (30380,))"
            ]
          },
          "metadata": {},
          "execution_count": 64
        }
      ]
    },
    {
      "cell_type": "code",
      "execution_count": 65,
      "id": "13f6b5e1",
      "metadata": {
        "id": "13f6b5e1"
      },
      "outputs": [],
      "source": [
        "X_train2, X_test2, y_train2, y_test2 = train_test_split(X_new, y, test_size=0.1, random_state=0)"
      ]
    },
    {
      "cell_type": "code",
      "source": [
        "from collections import Counter"
      ],
      "metadata": {
        "id": "h6TROLy8WHhx"
      },
      "id": "h6TROLy8WHhx",
      "execution_count": 66,
      "outputs": []
    },
    {
      "cell_type": "code",
      "source": [
        "def majority_voting_average(X:pd.DataFrame, a:float=0.6):\n",
        "  val0 = (X['xgboost_prob_0']*a+(1-a)*X['svm_prob_0']).values\n",
        "  val1 = (X['xgboost_prob_1']*a+(1-a)*X['svm_prob_1']).values\n",
        "  y = np.argmax(list(zip(list(val0), list(val1))), axis=1)\n",
        "  return y"
      ],
      "metadata": {
        "id": "MAxN74zybosL"
      },
      "id": "MAxN74zybosL",
      "execution_count": 69,
      "outputs": []
    },
    {
      "cell_type": "code",
      "execution_count": 68,
      "id": "4a2ef4e8",
      "metadata": {
        "id": "4a2ef4e8"
      },
      "outputs": [],
      "source": [
        "def majority_voting_count(X):\n",
        "  y = X.apply(lambda x: max(Counter(x).items(), key=lambda x: x[1])[0], axis=1)\n",
        "  return y"
      ]
    },
    {
      "cell_type": "code",
      "source": [
        "f1_score(y_true=y_train2, y_pred=majority_voting_average(X_train2, 0.5))"
      ],
      "metadata": {
        "id": "vBWu6jbtV4-H",
        "outputId": "cd1e93b4-9ac4-491b-dec3-2e9a81551b3a",
        "colab": {
          "base_uri": "https://localhost:8080/"
        }
      },
      "id": "vBWu6jbtV4-H",
      "execution_count": 87,
      "outputs": [
        {
          "output_type": "execute_result",
          "data": {
            "text/plain": [
              "0.9565746528738176"
            ]
          },
          "metadata": {},
          "execution_count": 87
        }
      ]
    },
    {
      "cell_type": "code",
      "source": [
        "f1_score(y_true=y_test2, y_pred=majority_voting_average(X_test2, 0.5))"
      ],
      "metadata": {
        "id": "upgKYn11XA8-",
        "outputId": "614d2251-e108-4d20-c1f0-574e290a78e7",
        "colab": {
          "base_uri": "https://localhost:8080/"
        }
      },
      "id": "upgKYn11XA8-",
      "execution_count": 86,
      "outputs": [
        {
          "output_type": "execute_result",
          "data": {
            "text/plain": [
              "0.8568496664956387"
            ]
          },
          "metadata": {},
          "execution_count": 86
        }
      ]
    },
    {
      "cell_type": "code",
      "source": [
        "lr = SVC(C=0.0007, degree= 1, kernel='rbf', random_state=seed, probability=False)"
      ],
      "metadata": {
        "id": "rbgTfLVNny7f"
      },
      "id": "rbgTfLVNny7f",
      "execution_count": 110,
      "outputs": []
    },
    {
      "cell_type": "code",
      "source": [
        "lr.fit(X_train2, y_train2)"
      ],
      "metadata": {
        "id": "Qkwhym4ooDTM",
        "outputId": "5fb11087-086f-4006-b335-605cf999d293",
        "colab": {
          "base_uri": "https://localhost:8080/"
        }
      },
      "id": "Qkwhym4ooDTM",
      "execution_count": 111,
      "outputs": [
        {
          "output_type": "execute_result",
          "data": {
            "text/plain": [
              "SVC(C=0.0007, degree=1, random_state=0)"
            ]
          },
          "metadata": {},
          "execution_count": 111
        }
      ]
    },
    {
      "cell_type": "code",
      "source": [
        "f1_score(y_true=y_test2, y_pred=lr.predict(X_test2))"
      ],
      "metadata": {
        "id": "WVF9whahoJSE",
        "outputId": "285fe5dd-845d-4441-8435-1c395b79a14a",
        "colab": {
          "base_uri": "https://localhost:8080/"
        }
      },
      "id": "WVF9whahoJSE",
      "execution_count": 112,
      "outputs": [
        {
          "output_type": "execute_result",
          "data": {
            "text/plain": [
              "0.8581488933601609"
            ]
          },
          "metadata": {},
          "execution_count": 112
        }
      ]
    },
    {
      "cell_type": "code",
      "source": [
        ""
      ],
      "metadata": {
        "id": "yTqC2d7PoaAJ"
      },
      "id": "yTqC2d7PoaAJ",
      "execution_count": null,
      "outputs": []
    }
  ],
  "metadata": {
    "kernelspec": {
      "display_name": "Python 3 (ipykernel)",
      "language": "python",
      "name": "python3"
    },
    "language_info": {
      "codemirror_mode": {
        "name": "ipython",
        "version": 3
      },
      "file_extension": ".py",
      "mimetype": "text/x-python",
      "name": "python",
      "nbconvert_exporter": "python",
      "pygments_lexer": "ipython3",
      "version": "3.9.12"
    },
    "colab": {
      "provenance": [],
      "toc_visible": true
    }
  },
  "nbformat": 4,
  "nbformat_minor": 5
}